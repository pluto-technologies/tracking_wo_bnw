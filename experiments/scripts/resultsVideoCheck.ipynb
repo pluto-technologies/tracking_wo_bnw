{
 "cells": [
  {
   "cell_type": "code",
   "execution_count": 1,
   "metadata": {},
   "outputs": [],
   "source": [
    "import numpy as np\n",
    "from PIL import Image\n",
    "import cv2\n",
    "import csv\n",
    "import os\n",
    "import pandas as pd\n",
    "%matplotlib inline\n",
    "from matplotlib import pyplot as plt\n",
    "from tracktor.utils import class_index"
   ]
  },
  {
   "cell_type": "code",
   "execution_count": 2,
   "metadata": {},
   "outputs": [],
   "source": [
    "folder = \"../../data/strandvejen_faxe\"\n",
    "file_names = sorted(os.listdir(folder), key = lambda x: x[:4])\n",
    "file_path = [folder + \"/\" + name for name in file_names]"
   ]
  },
  {
   "cell_type": "code",
   "execution_count": 3,
   "metadata": {},
   "outputs": [],
   "source": [
    "model_output = pd.read_csv(\n",
    "    \"../../output/custom/results/strandvejen_faxe.csv\",\n",
    "    header=None)\n",
    "model_output.columns = [\"frame\", \"id\", \"bb_left\", \"bb_top\", \"bb_width\", \"bb_height\", \"confidence\", \"x\", \"y\", \"z\", \"label_index\"]\n",
    "model_output['label'] = (model_output['label_index']).map(lambda x: class_index[str(x)])"
   ]
  },
  {
   "cell_type": "code",
   "execution_count": 4,
   "metadata": {},
   "outputs": [],
   "source": [
    "def get_img(img_path):\n",
    "    img = cv2.imread(img_path)\n",
    "    #img = cv2.cvtColor(img, cv2.COLOR_RGB2BGR)\n",
    "    #img = cv2.resize(img, (512, 512))\n",
    "    return img\n",
    "\n",
    "def hist_eq(img):\n",
    "    hist,bins = np.histogram(img.flatten(),256,[0,256])\n",
    "    cdf = hist.cumsum()\n",
    "    cdf_normalized = cdf * hist.max()/ cdf.max()\n",
    "    cdf_m = np.ma.masked_equal(cdf,0)\n",
    "    cdf_m = (cdf_m - cdf_m.min())*255/(cdf_m.max()-cdf_m.min())\n",
    "    cdf = np.ma.filled(cdf_m,0).astype('uint8')\n",
    "    return cdf[img]\n",
    "\n",
    "def print_img(img):\n",
    "    plt.figure(figsize=(15, 15))\n",
    "    plt.imshow(img, cmap='Greys_r')\n",
    "    \n",
    "def draw_bounding(img, x1, x2, y1, y2, label):\n",
    "    # draw a rectangle on the image\n",
    "    h, w = img.shape[:2]\n",
    "    cv2.putText(img, label , (x1, y1-10), cv2.FONT_HERSHEY_SIMPLEX, 0.6, (255,255,12), 1)\n",
    "    cv2.rectangle(img, (x1, y1), (x2, y2), (255, 255, 255), 2)"
   ]
  },
  {
   "cell_type": "code",
   "execution_count": 5,
   "metadata": {},
   "outputs": [
    {
     "data": {
      "text/html": [
       "<div>\n",
       "<style scoped>\n",
       "    .dataframe tbody tr th:only-of-type {\n",
       "        vertical-align: middle;\n",
       "    }\n",
       "\n",
       "    .dataframe tbody tr th {\n",
       "        vertical-align: top;\n",
       "    }\n",
       "\n",
       "    .dataframe thead th {\n",
       "        text-align: right;\n",
       "    }\n",
       "</style>\n",
       "<table border=\"1\" class=\"dataframe\">\n",
       "  <thead>\n",
       "    <tr style=\"text-align: right;\">\n",
       "      <th></th>\n",
       "      <th>frame</th>\n",
       "      <th>id</th>\n",
       "      <th>bb_left</th>\n",
       "      <th>bb_top</th>\n",
       "      <th>bb_width</th>\n",
       "      <th>bb_height</th>\n",
       "      <th>confidence</th>\n",
       "      <th>x</th>\n",
       "      <th>y</th>\n",
       "      <th>z</th>\n",
       "      <th>label_index</th>\n",
       "      <th>label</th>\n",
       "    </tr>\n",
       "  </thead>\n",
       "  <tbody>\n",
       "    <tr>\n",
       "      <th>0</th>\n",
       "      <td>1</td>\n",
       "      <td>1</td>\n",
       "      <td>429.018219</td>\n",
       "      <td>883.143433</td>\n",
       "      <td>274.919708</td>\n",
       "      <td>45.375000</td>\n",
       "      <td>0.748359</td>\n",
       "      <td>-1</td>\n",
       "      <td>-1</td>\n",
       "      <td>-1</td>\n",
       "      <td>10</td>\n",
       "      <td>crack</td>\n",
       "    </tr>\n",
       "    <tr>\n",
       "      <th>1</th>\n",
       "      <td>2</td>\n",
       "      <td>2</td>\n",
       "      <td>423.240234</td>\n",
       "      <td>901.539917</td>\n",
       "      <td>286.609619</td>\n",
       "      <td>52.563293</td>\n",
       "      <td>0.837370</td>\n",
       "      <td>-1</td>\n",
       "      <td>-1</td>\n",
       "      <td>-1</td>\n",
       "      <td>10</td>\n",
       "      <td>crack</td>\n",
       "    </tr>\n",
       "    <tr>\n",
       "      <th>2</th>\n",
       "      <td>2</td>\n",
       "      <td>3</td>\n",
       "      <td>980.716675</td>\n",
       "      <td>932.912292</td>\n",
       "      <td>44.236145</td>\n",
       "      <td>29.497864</td>\n",
       "      <td>0.484727</td>\n",
       "      <td>-1</td>\n",
       "      <td>-1</td>\n",
       "      <td>-1</td>\n",
       "      <td>2</td>\n",
       "      <td>crack</td>\n",
       "    </tr>\n",
       "  </tbody>\n",
       "</table>\n",
       "</div>"
      ],
      "text/plain": [
       "   frame  id     bb_left      bb_top    bb_width  bb_height  confidence  x  y  \\\n",
       "0      1   1  429.018219  883.143433  274.919708  45.375000    0.748359 -1 -1   \n",
       "1      2   2  423.240234  901.539917  286.609619  52.563293    0.837370 -1 -1   \n",
       "2      2   3  980.716675  932.912292   44.236145  29.497864    0.484727 -1 -1   \n",
       "\n",
       "   z  label_index  label  \n",
       "0 -1           10  crack  \n",
       "1 -1           10  crack  \n",
       "2 -1            2  crack  "
      ]
     },
     "execution_count": 5,
     "metadata": {},
     "output_type": "execute_result"
    }
   ],
   "source": [
    "model_output.head(3)"
   ]
  },
  {
   "cell_type": "code",
   "execution_count": 6,
   "metadata": {},
   "outputs": [
    {
     "data": {
      "text/html": [
       "<div>\n",
       "<style scoped>\n",
       "    .dataframe tbody tr th:only-of-type {\n",
       "        vertical-align: middle;\n",
       "    }\n",
       "\n",
       "    .dataframe tbody tr th {\n",
       "        vertical-align: top;\n",
       "    }\n",
       "\n",
       "    .dataframe thead th {\n",
       "        text-align: right;\n",
       "    }\n",
       "</style>\n",
       "<table border=\"1\" class=\"dataframe\">\n",
       "  <thead>\n",
       "    <tr style=\"text-align: right;\">\n",
       "      <th></th>\n",
       "      <th>frame</th>\n",
       "      <th>id</th>\n",
       "      <th>bb_left</th>\n",
       "      <th>bb_top</th>\n",
       "      <th>bb_width</th>\n",
       "      <th>bb_height</th>\n",
       "      <th>confidence</th>\n",
       "      <th>x</th>\n",
       "      <th>y</th>\n",
       "      <th>z</th>\n",
       "      <th>label_index</th>\n",
       "      <th>label</th>\n",
       "    </tr>\n",
       "  </thead>\n",
       "  <tbody>\n",
       "    <tr>\n",
       "      <th>11</th>\n",
       "      <td>10</td>\n",
       "      <td>4</td>\n",
       "      <td>535.955811</td>\n",
       "      <td>663.10199</td>\n",
       "      <td>462.182739</td>\n",
       "      <td>362.89801</td>\n",
       "      <td>0.153277</td>\n",
       "      <td>-1</td>\n",
       "      <td>-1</td>\n",
       "      <td>-1</td>\n",
       "      <td>10</td>\n",
       "      <td>crack</td>\n",
       "    </tr>\n",
       "  </tbody>\n",
       "</table>\n",
       "</div>"
      ],
      "text/plain": [
       "    frame  id     bb_left     bb_top    bb_width  bb_height  confidence  x  y  \\\n",
       "11     10   4  535.955811  663.10199  462.182739  362.89801    0.153277 -1 -1   \n",
       "\n",
       "    z  label_index  label  \n",
       "11 -1           10  crack  "
      ]
     },
     "execution_count": 6,
     "metadata": {},
     "output_type": "execute_result"
    }
   ],
   "source": [
    "i = 10\n",
    "one_frame = get_img(file_path[i])\n",
    "frame_boxes_df = model_output[model_output[\"frame\"] == i]\n",
    "frame_boxes_df"
   ]
  },
  {
   "cell_type": "code",
   "execution_count": 7,
   "metadata": {},
   "outputs": [],
   "source": [
    "output_img = one_frame.copy()\n",
    "for i, row in frame_boxes_df.iterrows():\n",
    "    x1 = float(row.bb_left) - 1\n",
    "    y1 = float(row.bb_top) - 1\n",
    "    x2 = float(row.bb_width) - 1 + x1\n",
    "    y2 = float(row.bb_height) - 1 + y1\n",
    "    draw_bounding(output_img, int(x1), int(x2), int(y1), int(y2), row.label)\n",
    "print_img(output_img)"
   ]
  },
  {
   "cell_type": "code",
   "execution_count": 8,
   "metadata": {},
   "outputs": [],
   "source": [
    "fourcc = cv2.VideoWriter_fourcc(*\"MJPG\")\n",
    "writer = cv2.VideoWriter(\"tracktor_video.avi\", fourcc, 30, (1024, 1024), True)\n",
    "for i in range(len(model_output['frame'].unique())):\n",
    "    one_frame = get_img(file_path[i])\n",
    "    frame_boxes_df = model_output[model_output[\"frame\"] == i]\n",
    "    output_img = one_frame.copy()\n",
    "    for _, row in frame_boxes_df.iterrows():\n",
    "        x1 = float(row.bb_left) - 1\n",
    "        y1 = float(row.bb_top) - 1\n",
    "        x2 = float(row.bb_width) - 1 + x1\n",
    "        y2 = float(row.bb_height) - 1 + y1\n",
    "        draw_bounding(\n",
    "            output_img,\n",
    "            int(x1), int(x2), int(y1), int(y2),\n",
    "            f\"[{row.id}] {row.label} - {round(row.confidence*100)}%]\"\n",
    "        )\n",
    "    writer.write(output_img)\n",
    "writer.release()\n"
   ]
  },
  {
   "cell_type": "code",
   "execution_count": 9,
   "metadata": {},
   "outputs": [
    {
     "data": {
      "text/plain": [
       "array(['crack', 'area patch', 'hole'], dtype=object)"
      ]
     },
     "execution_count": 9,
     "metadata": {},
     "output_type": "execute_result"
    }
   ],
   "source": [
    "model_output[\"label\"].unique()"
   ]
  },
  {
   "cell_type": "code",
   "execution_count": 10,
   "metadata": {},
   "outputs": [
    {
     "data": {
      "text/html": [
       "<div>\n",
       "<style scoped>\n",
       "    .dataframe tbody tr th:only-of-type {\n",
       "        vertical-align: middle;\n",
       "    }\n",
       "\n",
       "    .dataframe tbody tr th {\n",
       "        vertical-align: top;\n",
       "    }\n",
       "\n",
       "    .dataframe thead th {\n",
       "        text-align: right;\n",
       "    }\n",
       "</style>\n",
       "<table border=\"1\" class=\"dataframe\">\n",
       "  <thead>\n",
       "    <tr style=\"text-align: right;\">\n",
       "      <th></th>\n",
       "      <th>frame</th>\n",
       "      <th>id</th>\n",
       "      <th>bb_left</th>\n",
       "      <th>bb_top</th>\n",
       "      <th>bb_width</th>\n",
       "      <th>bb_height</th>\n",
       "      <th>confidence</th>\n",
       "      <th>x</th>\n",
       "      <th>y</th>\n",
       "      <th>z</th>\n",
       "      <th>label_index</th>\n",
       "      <th>label</th>\n",
       "    </tr>\n",
       "  </thead>\n",
       "  <tbody>\n",
       "    <tr>\n",
       "      <th>1010</th>\n",
       "      <td>335</td>\n",
       "      <td>366</td>\n",
       "      <td>510.21756</td>\n",
       "      <td>648.123901</td>\n",
       "      <td>478.708405</td>\n",
       "      <td>375.89386</td>\n",
       "      <td>0.695087</td>\n",
       "      <td>-1</td>\n",
       "      <td>-1</td>\n",
       "      <td>-1</td>\n",
       "      <td>10</td>\n",
       "      <td>crack</td>\n",
       "    </tr>\n",
       "  </tbody>\n",
       "</table>\n",
       "</div>"
      ],
      "text/plain": [
       "      frame   id    bb_left      bb_top    bb_width  bb_height  confidence  x  \\\n",
       "1010    335  366  510.21756  648.123901  478.708405  375.89386    0.695087 -1   \n",
       "\n",
       "      y  z  label_index  label  \n",
       "1010 -1 -1           10  crack  "
      ]
     },
     "execution_count": 10,
     "metadata": {},
     "output_type": "execute_result"
    }
   ],
   "source": [
    "frame_boxes_df"
   ]
  },
  {
   "cell_type": "code",
   "execution_count": null,
   "metadata": {},
   "outputs": [],
   "source": []
  }
 ],
 "metadata": {
  "kernelspec": {
   "display_name": "Python 3",
   "language": "python",
   "name": "python3"
  },
  "language_info": {
   "codemirror_mode": {
    "name": "ipython",
    "version": 3
   },
   "file_extension": ".py",
   "mimetype": "text/x-python",
   "name": "python",
   "nbconvert_exporter": "python",
   "pygments_lexer": "ipython3",
   "version": "3.7.3"
  }
 },
 "nbformat": 4,
 "nbformat_minor": 4
}
