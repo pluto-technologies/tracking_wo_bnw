{
 "cells": [
  {
   "cell_type": "code",
   "execution_count": 23,
   "metadata": {},
   "outputs": [
    {
     "name": "stdout",
     "output_type": "stream",
     "text": [
      "The autoreload extension is already loaded. To reload it, use:\n",
      "  %reload_ext autoreload\n"
     ]
    }
   ],
   "source": [
    "%load_ext autoreload\n",
    "%autoreload 1"
   ]
  },
  {
   "cell_type": "code",
   "execution_count": 24,
   "metadata": {},
   "outputs": [],
   "source": [
    "import copy\n",
    "import os\n",
    "import time\n",
    "from os import path as osp\n",
    "\n",
    "import numpy as np\n",
    "import sacred\n",
    "import torch\n",
    "import yaml\n",
    "from sacred import Experiment\n",
    "from torch.utils.data import DataLoader\n",
    "from tqdm.notebook import tqdm\n",
    "from tracktor.config import get_output_dir\n",
    "from tracktor.datasets.factory import Datasets\n",
    "from tracktor.datasets.custom_wrapper import CustomSequence\n",
    "from tracktor.frcnn_fpn import FRCNN_FPN\n",
    "from tracktor.oracle_tracker import OracleTracker\n",
    "from tracktor.reid.resnet import ReIDNetwork_resnet50\n",
    "from tracktor.tracker import Tracker\n",
    "from tracktor.utils import (evaluate_mot_accums, get_mot_accum,\n",
    "                            interpolate_tracks, plot_sequence)"
   ]
  },
  {
   "cell_type": "code",
   "execution_count": 25,
   "metadata": {},
   "outputs": [],
   "source": [
    "import cv2"
   ]
  },
  {
   "cell_type": "code",
   "execution_count": 26,
   "metadata": {},
   "outputs": [],
   "source": [
    "frame_split = [0.0, 1.0]"
   ]
  },
  {
   "cell_type": "code",
   "execution_count": 27,
   "metadata": {},
   "outputs": [],
   "source": [
    "obj_detects = []\n",
    "obj_detect_model = \"../../output/custom/faster_rcnn_fpn/training/model_epoch_30.model\"\n",
    "obj_detect = FRCNN_FPN(num_classes=31)\n",
    "obj_detect.load_state_dict(torch.load(obj_detect_model, map_location=lambda storage, loc: storage))\n",
    "obj_detects.append(obj_detect)\n",
    "obj_detect.eval()\n",
    "obj_detect.cuda();"
   ]
  },
  {
   "cell_type": "code",
   "execution_count": 28,
   "metadata": {},
   "outputs": [],
   "source": [
    "tracker_conf = {\n",
    "  \"detection_person_thresh\": 0.4,\n",
    "  \"regression_person_thresh\": 0.1,\n",
    "  \"detection_nms_thresh\": 0.2,\n",
    "  \"regression_nms_thresh\": 0.1,\n",
    "  \"motion_model\" : {\n",
    "    \"enabled\": True,\n",
    "    \"n_steps\": 5,\n",
    "    \"center_only\": True\n",
    "  },\n",
    "  \"public_detections\": False,\n",
    "  \"do_align\": True,\n",
    "  \"warp_mode\": \"MOTION_EUCLIDEAN\",\n",
    "  \"number_of_iterations\": 100,\n",
    "  \"termination_eps\": 0.00001,\n",
    "  \"do_reid\": False,\n",
    "  \"inactive_patience\": 50,\n",
    "  \"max_features_num\": 10,\n",
    "  \"reid_sim_threshold\": 2.0,\n",
    "  \"reid_iou_threshold\": 0.2\n",
    "}\n",
    "tracker = Tracker(obj_detect, [], tracker_conf)\n",
    "tracker.reset()\n",
    "num_frames = 0"
   ]
  },
  {
   "cell_type": "code",
   "execution_count": 33,
   "metadata": {},
   "outputs": [],
   "source": [
    "#name = \"strandvejen_faxe\"\n",
    "name = \"bækvej_faxe\"\n",
    "result_dir = \"../../output/custom/results\"\n",
    "seq = CustomSequence(name, result_dir)\n",
    "data_loader = DataLoader(seq, batch_size=1, shuffle=False)"
   ]
  },
  {
   "cell_type": "code",
   "execution_count": 34,
   "metadata": {},
   "outputs": [
    {
     "name": "stderr",
     "output_type": "stream",
     "text": [
      "100%|██████████| 2160/2160 [21:19<00:00,  1.69it/s]\n"
     ]
    }
   ],
   "source": [
    "results = seq.load_results()\n",
    "count = 0\n",
    "for i, frame in enumerate(tqdm(data_loader, leave=True, position=0)):\n",
    "    count += 1\n",
    "    if len(seq) * frame_split[0] <= i <= len(seq) * frame_split[1]:\n",
    "        with torch.no_grad():\n",
    "            tracker.step(frame)\n",
    "        num_frames += 1\n",
    "    if count > 200: pass\n",
    "\n",
    "results = tracker.get_results()\n",
    "results = interpolate_tracks(results)\n",
    "seq.write_results(results)"
   ]
  },
  {
   "cell_type": "code",
   "execution_count": null,
   "metadata": {},
   "outputs": [],
   "source": []
  }
 ],
 "metadata": {
  "kernelspec": {
   "display_name": "Python 3",
   "language": "python",
   "name": "python3"
  },
  "language_info": {
   "codemirror_mode": {
    "name": "ipython",
    "version": 3
   },
   "file_extension": ".py",
   "mimetype": "text/x-python",
   "name": "python",
   "nbconvert_exporter": "python",
   "pygments_lexer": "ipython3",
   "version": "3.7.3"
  }
 },
 "nbformat": 4,
 "nbformat_minor": 4
}
